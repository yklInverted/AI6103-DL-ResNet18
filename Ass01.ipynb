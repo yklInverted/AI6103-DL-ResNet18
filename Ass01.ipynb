{
 "cells": [
  {
   "cell_type": "code",
   "execution_count": 2,
   "metadata": {},
   "outputs": [
    {
     "name": "stderr",
     "output_type": "stream",
     "text": [
      "d:\\miniconda\\envs\\torch\\lib\\site-packages\\tqdm\\auto.py:22: TqdmWarning: IProgress not found. Please update jupyter and ipywidgets. See https://ipywidgets.readthedocs.io/en/stable/user_install.html\n",
      "  from .autonotebook import tqdm as notebook_tqdm\n"
     ]
    }
   ],
   "source": [
    "# import all libraries\n",
    "import torch\n",
    "import torch.nn as nn\n",
    "import torch.optim as optim\n",
    "import torch.nn.functional as F\n",
    "import torch.backends.cudnn as cudnn\n",
    "import torch.utils.data as data\n",
    "\n",
    "import torchvision\n",
    "import torchvision.transforms as transforms\n",
    "\n",
    "from sklearn.model_selection import train_test_split\n",
    "import matplotlib.pyplot as plt\n",
    "import numpy as np\n",
    "import os\n",
    "import argparse"
   ]
  },
  {
   "cell_type": "code",
   "execution_count": 9,
   "metadata": {},
   "outputs": [
    {
     "name": "stdout",
     "output_type": "stream",
     "text": [
      "Files already downloaded and verified\n"
     ]
    }
   ],
   "source": [
    "#torch.manual_seed(0)\n",
    "\n",
    "# these are commonly used data augmentations\n",
    "# random cropping and random horizontal flip\n",
    "# lastly, we normalize each channel into zero mean and unit standard deviation\n",
    "transform_train = transforms.Compose([\n",
    "    transforms.RandomCrop(32, padding=4),\n",
    "    transforms.RandomHorizontalFlip(),\n",
    "    transforms.ToTensor(),\n",
    "    transforms.Normalize((0.4914, 0.4822, 0.4465), (0.2023, 0.1994, 0.2010)),\n",
    "])\n",
    "\n",
    "transform_test = transforms.Compose([\n",
    "    transforms.ToTensor(),\n",
    "    transforms.Normalize((0.4914, 0.4822, 0.4465), (0.2023, 0.1994, 0.2010)),\n",
    "])\n",
    "\n",
    "\n",
    "tempset = torchvision.datasets.CIFAR10(\n",
    "    root='./data', train=True, download=True, transform=transform_train)\n",
    "\n",
    "trainset, valset = data.random_split(tempset, [40000, 10000], generator= torch.Generator().manual_seed(0))\n",
    "\n",
    "trainloader = torch.utils.data.DataLoader(\n",
    "    trainset, batch_size=128, shuffle=True, num_workers=2)\n",
    "\n",
    "validloader = torch.utils.data.DataLoader(\n",
    "    valset, batch_size=128, shuffle=True, num_workers=2)\n",
    "testset = torchvision.datasets.CIFAR10(\n",
    "    root='./data', train=False, download=False, transform=transform_test)\n",
    "\n",
    "# we can use a larger batch size during test, because we do not save \n",
    "# intermediate variables for gradient computation, which leaves more memory\n",
    "testloader = torch.utils.data.DataLoader(\n",
    "    testset, batch_size=256, shuffle=False, num_workers=2)\n",
    "\n",
    "classes = ('plane', 'car', 'bird', 'cat', 'deer',\n",
    "           'dog', 'frog', 'horse', 'ship', 'truck')"
   ]
  },
  {
   "cell_type": "code",
   "execution_count": 22,
   "metadata": {},
   "outputs": [
    {
     "name": "stderr",
     "output_type": "stream",
     "text": [
      "Clipping input data to the valid range for imshow with RGB data ([0..1] for floats or [0..255] for integers).\n"
     ]
    },
    {
     "data": {
      "text/plain": [
       "<matplotlib.image.AxesImage at 0x1c35a9be8c0>"
      ]
     },
     "execution_count": 22,
     "metadata": {},
     "output_type": "execute_result"
    },
    {
     "data": {
      "image/png": "[encoded data removed]",
      "text/plain": [
       "<Figure size 432x288 with 1 Axes>"
      ]
     },
     "metadata": {
      "needs_background": "light"
     },
     "output_type": "display_data"
    }
   ],
   "source": [
    "plt.imshow(trainset[4][0].permute((1,2,0)))"
   ]
  },
  {
   "cell_type": "code",
   "execution_count": 19,
   "metadata": {},
   "outputs": [],
   "source": [
    "train_indices, val_indices = train_test_split(list(range(len(tempset.targets))), test_size=0.2, random_state = 0, stratify=tempset.targets)\n",
    "trainset = torch.utils.data.Subset(tempset, train_indices)\n",
    "valset = torch.utils.data.Subset(tempset, val_indices)"
   ]
  },
  {
   "cell_type": "code",
   "execution_count": 134,
   "metadata": {},
   "outputs": [],
   "source": [
    "count_temp = np.zeros(len(classes))\n",
    "count_train = np.zeros(len(classes))\n",
    "\n",
    "for im, label in trainset:\n",
    "    count_temp[label] += 1\n",
    "    count_train[label] += 1\n",
    "\n",
    "for im, label in valset:\n",
    "    count_temp[label] += 1\n"
   ]
  },
  {
   "cell_type": "code",
   "execution_count": 135,
   "metadata": {},
   "outputs": [
    {
     "data": {
      "text/plain": [
       "<BarContainer object of 10 artists>"
      ]
     },
     "execution_count": 135,
     "metadata": {},
     "output_type": "execute_result"
    },
    {
     "data": {
      "image/png": "[encoded data removed]",
      "text/plain": [
       "<Figure size 432x288 with 1 Axes>"
      ]
     },
     "metadata": {
      "needs_background": "light"
     },
     "output_type": "display_data"
    }
   ],
   "source": [
    "\n",
    "plt.bar(classes, count_temp, color = 'b', label = 'lala')\n",
    "plt.bar(classes, count_train, color = 'y', label = 'haha')"
   ]
  },
  {
   "cell_type": "code",
   "execution_count": 136,
   "metadata": {},
   "outputs": [
    {
     "data": {
      "text/plain": [
       "array([4000., 4000., 4000., 4000., 4000., 4000., 4000., 4000., 4000.,\n",
       "       4000.])"
      ]
     },
     "execution_count": 136,
     "metadata": {},
     "output_type": "execute_result"
    }
   ],
   "source": [
    "\n",
    "\n",
    "np.array([4014., 4002., 3995., 3977., 3982., 4019., 3975., 4010., 4010.,\n",
    "       4016.]);\n",
    "\n",
    "count_train"
   ]
  },
  {
   "cell_type": "code",
   "execution_count": 12,
   "metadata": {},
   "outputs": [],
   "source": [
    "# Training\n",
    "def train(epoch, net, criterion, trainloader, scheduler, optimizer):\n",
    "    device = 'cuda'\n",
    "    print('\\nEpoch: %d' % epoch)\n",
    "    net.train()\n",
    "    train_loss = 0\n",
    "    correct = 0\n",
    "    total = 0\n",
    "\n",
    "    for batch_idx, (inputs, targets) in enumerate(trainloader):\n",
    "        inputs, targets = inputs.to(device), targets.to(device)\n",
    "        optimizer.zero_grad()\n",
    "        outputs = net(inputs)\n",
    "        loss = criterion(outputs, targets)\n",
    "        loss.backward()\n",
    "        optimizer.step()\n",
    "\n",
    "        train_loss += loss.item()\n",
    "        _, predicted = outputs.max(1)\n",
    "        total += targets.size(0)\n",
    "        correct += predicted.eq(targets).sum().item()\n",
    "\n",
    "        if (batch_idx+1) % 50 == 0:\n",
    "          print(\"iteration : %3d, loss : %0.4f, accuracy : %2.2f\" % (batch_idx+1, train_loss/(batch_idx+1), 100.*correct/total))\n",
    "\n",
    "    #scheduler.step()\n",
    "    return train_loss/(batch_idx+1), 100.*correct/total\n",
    "\n",
    "def test(epoch, net, criterion, testloader):\n",
    "    device = 'cuda'\n",
    "    net.eval()\n",
    "    valid_loss = 0\n",
    "    correct = 0\n",
    "    total = 0\n",
    "    with torch.inference_mode():\n",
    "        for batch_idx, (inputs, targets) in enumerate(testloader):\n",
    "            inputs, targets = inputs.to(device), targets.to(device)\n",
    "            outputs = net(inputs)\n",
    "            loss = criterion(outputs, targets)\n",
    "\n",
    "            valid_loss += loss.item()\n",
    "            _, predicted = outputs.max(1)\n",
    "            total += targets.size(0)\n",
    "            correct += predicted.eq(targets).sum().item()\n",
    "\n",
    "    return valid_loss/(batch_idx+1), 100.*correct/total\n",
    "\n"
   ]
  },
  {
   "cell_type": "code",
   "execution_count": 13,
   "metadata": {},
   "outputs": [],
   "source": [
    "def save_checkpoint(net, acc, epoch):\n",
    "    # Save checkpoint.\n",
    "    print('Saving..')\n",
    "    state = {\n",
    "        'net': net.state_dict(),\n",
    "        'acc': acc,\n",
    "        'epoch': epoch,\n",
    "    }\n",
    "    if not os.path.isdir('checkpoint'):\n",
    "        os.mkdir('checkpoint')\n",
    "    torch.save(state, './checkpoint/ckpt.pth')\n",
    "\n",
    "def save_result(name, train_loss, valid_loss, test_loss, train_acc, valid_acc, test_acc):\n",
    "    print('Saving..')\n",
    "    state = {\n",
    "        'tl': train_loss,\n",
    "        'vl': valid_loss,\n",
    "        'fl': test_loss,\n",
    "        'ta': train_acc,  \n",
    "        'va': valid_acc,  \n",
    "        'fa': test_acc,\n",
    "    }\n",
    "\n",
    "    if not os.path.isdir('result'):\n",
    "        os.mkdir('result')\n",
    "    torch.save(state, f'./result/{name}.pth')"
   ]
  },
  {
   "cell_type": "code",
   "execution_count": 14,
   "metadata": {},
   "outputs": [],
   "source": [
    "# defining resnet models\n",
    "\n",
    "class BasicBlock(nn.Module):\n",
    "    expansion = 1\n",
    "\n",
    "    def __init__(self, in_planes, planes, stride=1):\n",
    "        super(BasicBlock, self).__init__()\n",
    "        self.conv1 = nn.Conv2d(\n",
    "            in_planes, planes, kernel_size=3, stride=stride, padding=1, bias=False)\n",
    "        self.bn1 = nn.BatchNorm2d(planes)\n",
    "        self.conv2 = nn.Conv2d(planes, planes, kernel_size=3,\n",
    "                               stride=1, padding=1, bias=False)\n",
    "        self.bn2 = nn.BatchNorm2d(planes)\n",
    "\n",
    "        self.shortcut = nn.Sequential()\n",
    "        if stride != 1 or in_planes != self.expansion*planes:\n",
    "            self.shortcut = nn.Sequential(\n",
    "                nn.Conv2d(in_planes, self.expansion*planes,\n",
    "                          kernel_size=1, stride=stride, bias=False),\n",
    "                nn.BatchNorm2d(self.expansion*planes)\n",
    "            )\n",
    "\n",
    "    def forward(self, x):\n",
    "        out = F.relu(self.bn1(self.conv1(x)))\n",
    "        out = self.bn2(self.conv2(out))\n",
    "        out += self.shortcut(x)\n",
    "        out = F.relu(out)\n",
    "        return out\n",
    "\n",
    "\n",
    "class Bottleneck(nn.Module):\n",
    "    expansion = 4\n",
    "\n",
    "    def __init__(self, in_planes, planes, stride=1):\n",
    "        super(Bottleneck, self).__init__()\n",
    "        self.conv1 = nn.Conv2d(in_planes, planes, kernel_size=1, bias=False)\n",
    "        self.bn1 = nn.BatchNorm2d(planes)\n",
    "        self.conv2 = nn.Conv2d(planes, planes, kernel_size=3,\n",
    "                               stride=stride, padding=1, bias=False)\n",
    "        self.bn2 = nn.BatchNorm2d(planes)\n",
    "        self.conv3 = nn.Conv2d(planes, self.expansion *\n",
    "                               planes, kernel_size=1, bias=False)\n",
    "        self.bn3 = nn.BatchNorm2d(self.expansion*planes)\n",
    "\n",
    "        self.shortcut = nn.Sequential()\n",
    "        if stride != 1 or in_planes != self.expansion*planes:\n",
    "            self.shortcut = nn.Sequential(\n",
    "                nn.Conv2d(in_planes, self.expansion*planes,\n",
    "                          kernel_size=1, stride=stride, bias=False),\n",
    "                nn.BatchNorm2d(self.expansion*planes)\n",
    "            )\n",
    "\n",
    "    def forward(self, x):\n",
    "        out = F.relu(self.bn1(self.conv1(x)))\n",
    "        out = F.relu(self.bn2(self.conv2(out)))\n",
    "        out = self.bn3(self.conv3(out))\n",
    "        out += self.shortcut(x)\n",
    "        out = F.relu(out)\n",
    "        return out\n",
    "\n",
    "\n",
    "class ResNet(nn.Module):\n",
    "    def __init__(self, block, num_blocks, num_classes=10):\n",
    "        super(ResNet, self).__init__()\n",
    "        self.in_planes = 64\n",
    "\n",
    "        # This is the \"stem\"\n",
    "        # For CIFAR (32x32 images), it does not perform downsampling\n",
    "        # It should downsample for ImageNet\n",
    "        self.conv1 = nn.Conv2d(3, 64, kernel_size=3,\n",
    "                               stride=1, padding=1, bias=False)\n",
    "        self.bn1 = nn.BatchNorm2d(64)\n",
    "        # four stages with three downsampling\n",
    "        self.layer1 = self._make_layer(block, 64, num_blocks[0], stride=1)\n",
    "        self.layer2 = self._make_layer(block, 128, num_blocks[1], stride=2)\n",
    "        self.layer3 = self._make_layer(block, 256, num_blocks[2], stride=2)\n",
    "        self.layer4 = self._make_layer(block, 512, num_blocks[3], stride=2)\n",
    "        self.linear = nn.Linear(512*block.expansion, num_classes)\n",
    "\n",
    "    def _make_layer(self, block, planes, num_blocks, stride):\n",
    "        strides = [stride] + [1]*(num_blocks-1)\n",
    "        layers = []\n",
    "        for stride in strides:\n",
    "            layers.append(block(self.in_planes, planes, stride))\n",
    "            self.in_planes = planes * block.expansion\n",
    "        return nn.Sequential(*layers)\n",
    "\n",
    "    def forward(self, x):\n",
    "        out = F.relu(self.bn1(self.conv1(x)))\n",
    "        out = self.layer1(out)\n",
    "        out = self.layer2(out)\n",
    "        out = self.layer3(out)\n",
    "        out = self.layer4(out)\n",
    "        out = F.avg_pool2d(out, 4)\n",
    "        out = out.view(out.size(0), -1)\n",
    "        out = self.linear(out)\n",
    "        return out\n",
    "\n",
    "\n",
    "def ResNet18():\n",
    "    return ResNet(BasicBlock, [2, 2, 2, 2])\n",
    "\n",
    "\n",
    "def ResNet34():\n",
    "    return ResNet(BasicBlock, [3, 4, 6, 3])\n",
    "\n",
    "\n",
    "def ResNet50():\n",
    "    return ResNet(Bottleneck, [3, 4, 6, 3])\n",
    "\n",
    "\n",
    "def ResNet101():\n",
    "    return ResNet(Bottleneck, [3, 4, 23, 3])\n",
    "\n",
    "\n",
    "def ResNet152():\n",
    "    return ResNet(Bottleneck, [3, 8, 36, 3])\n",
    "\n",
    "\n",
    "def test_resnet18():\n",
    "    net = ResNet18()\n",
    "    y = net(torch.randn(1, 3, 32, 32))\n",
    "    print(y.size())"
   ]
  },
  {
   "cell_type": "code",
   "execution_count": 26,
   "metadata": {},
   "outputs": [
    {
     "name": "stdout",
     "output_type": "stream",
     "text": [
      "\n",
      "Epoch: 0\n",
      "iteration :  50, loss : 2.1156, accuracy : 22.03\n",
      "iteration : 100, loss : 1.9711, accuracy : 26.98\n",
      "iteration : 150, loss : 1.8803, accuracy : 29.88\n",
      "iteration : 200, loss : 1.8034, accuracy : 32.75\n",
      "iteration : 250, loss : 1.7493, accuracy : 34.75\n",
      "iteration : 300, loss : 1.7040, accuracy : 36.55\n",
      "Epoch :   0, training loss : 1.6914, training accuracy : 37.10, validation loss : 1.6044, validation accuracy : 42.23\n",
      "\n",
      "Epoch: 1\n",
      "iteration :  50, loss : 1.4151, accuracy : 47.41\n",
      "iteration : 100, loss : 1.3918, accuracy : 48.80\n",
      "iteration : 150, loss : 1.3599, accuracy : 50.22\n",
      "iteration : 200, loss : 1.3301, accuracy : 51.26\n",
      "iteration : 250, loss : 1.3120, accuracy : 51.89\n",
      "iteration : 300, loss : 1.2955, accuracy : 52.59\n",
      "Epoch :   1, training loss : 1.2918, training accuracy : 52.70, validation loss : 1.2884, validation accuracy : 52.88\n",
      "\n",
      "Epoch: 2\n",
      "iteration :  50, loss : 1.1535, accuracy : 59.09\n",
      "iteration : 100, loss : 1.1419, accuracy : 58.87\n",
      "iteration : 150, loss : 1.1263, accuracy : 59.27\n",
      "iteration : 200, loss : 1.1153, accuracy : 59.74\n",
      "iteration : 250, loss : 1.1001, accuracy : 60.20\n",
      "iteration : 300, loss : 1.0850, accuracy : 60.77\n",
      "Epoch :   2, training loss : 1.0817, training accuracy : 60.82, validation loss : 1.0908, validation accuracy : 60.65\n",
      "\n",
      "Epoch: 3\n",
      "iteration :  50, loss : 0.9642, accuracy : 64.89\n",
      "iteration : 100, loss : 0.9692, accuracy : 64.76\n",
      "iteration : 150, loss : 0.9596, accuracy : 65.41\n",
      "iteration : 200, loss : 0.9541, accuracy : 65.64\n",
      "iteration : 250, loss : 0.9460, accuracy : 65.94\n",
      "iteration : 300, loss : 0.9383, accuracy : 66.21\n",
      "Epoch :   3, training loss : 0.9376, training accuracy : 66.27, validation loss : 0.9557, validation accuracy : 66.17\n",
      "\n",
      "Epoch: 4\n",
      "iteration :  50, loss : 0.8660, accuracy : 68.83\n",
      "iteration : 100, loss : 0.8562, accuracy : 69.16\n",
      "iteration : 150, loss : 0.8544, accuracy : 69.27\n",
      "iteration : 200, loss : 0.8503, accuracy : 69.53\n",
      "iteration : 250, loss : 0.8407, accuracy : 70.02\n",
      "iteration : 300, loss : 0.8322, accuracy : 70.34\n",
      "Epoch :   4, training loss : 0.8303, training accuracy : 70.39, validation loss : 0.8712, validation accuracy : 69.39\n",
      "\n",
      "Epoch: 5\n",
      "iteration :  50, loss : 0.7671, accuracy : 73.14\n",
      "iteration : 100, loss : 0.7669, accuracy : 73.01\n",
      "iteration : 150, loss : 0.7529, accuracy : 73.36\n",
      "iteration : 200, loss : 0.7468, accuracy : 73.55\n",
      "iteration : 250, loss : 0.7422, accuracy : 73.66\n",
      "iteration : 300, loss : 0.7419, accuracy : 73.80\n",
      "Epoch :   5, training loss : 0.7399, training accuracy : 73.83, validation loss : 0.8482, validation accuracy : 70.74\n",
      "\n",
      "Epoch: 6\n",
      "iteration :  50, loss : 0.6973, accuracy : 74.94\n",
      "iteration : 100, loss : 0.6828, accuracy : 75.65\n",
      "iteration : 150, loss : 0.6837, accuracy : 75.56\n",
      "iteration : 200, loss : 0.6802, accuracy : 75.73\n",
      "iteration : 250, loss : 0.6758, accuracy : 75.99\n",
      "iteration : 300, loss : 0.6724, accuracy : 76.14\n",
      "Epoch :   6, training loss : 0.6720, training accuracy : 76.11, validation loss : 0.7898, validation accuracy : 73.11\n",
      "\n",
      "Epoch: 7\n",
      "iteration :  50, loss : 0.6148, accuracy : 78.48\n",
      "iteration : 100, loss : 0.6121, accuracy : 78.48\n",
      "iteration : 150, loss : 0.6181, accuracy : 78.37\n",
      "iteration : 200, loss : 0.6167, accuracy : 78.43\n",
      "iteration : 250, loss : 0.6195, accuracy : 78.33\n",
      "iteration : 300, loss : 0.6197, accuracy : 78.37\n",
      "Epoch :   7, training loss : 0.6208, training accuracy : 78.33, validation loss : 0.6797, validation accuracy : 76.08\n",
      "\n",
      "Epoch: 8\n",
      "iteration :  50, loss : 0.5867, accuracy : 79.25\n",
      "iteration : 100, loss : 0.5827, accuracy : 79.30\n",
      "iteration : 150, loss : 0.5808, accuracy : 79.46\n",
      "iteration : 200, loss : 0.5781, accuracy : 79.44\n",
      "iteration : 250, loss : 0.5788, accuracy : 79.58\n",
      "iteration : 300, loss : 0.5744, accuracy : 79.83\n",
      "Epoch :   8, training loss : 0.5751, training accuracy : 79.80, validation loss : 0.6605, validation accuracy : 76.89\n",
      "\n",
      "Epoch: 9\n",
      "iteration :  50, loss : 0.5125, accuracy : 81.92\n",
      "iteration : 100, loss : 0.5244, accuracy : 81.52\n",
      "iteration : 150, loss : 0.5282, accuracy : 81.42\n",
      "iteration : 200, loss : 0.5347, accuracy : 81.13\n",
      "iteration : 250, loss : 0.5371, accuracy : 81.16\n",
      "iteration : 300, loss : 0.5320, accuracy : 81.40\n",
      "Epoch :   9, training loss : 0.5312, training accuracy : 81.46, validation loss : 0.6002, validation accuracy : 78.79\n",
      "\n",
      "Epoch: 10\n",
      "iteration :  50, loss : 0.4890, accuracy : 82.81\n",
      "iteration : 100, loss : 0.4898, accuracy : 82.73\n",
      "iteration : 150, loss : 0.4974, accuracy : 82.40\n",
      "iteration : 200, loss : 0.4991, accuracy : 82.39\n",
      "iteration : 250, loss : 0.4970, accuracy : 82.54\n",
      "iteration : 300, loss : 0.4980, accuracy : 82.51\n",
      "Epoch :  10, training loss : 0.4977, training accuracy : 82.52, validation loss : 0.6042, validation accuracy : 79.15\n",
      "\n",
      "Epoch: 11\n",
      "iteration :  50, loss : 0.4693, accuracy : 83.36\n",
      "iteration : 100, loss : 0.4636, accuracy : 83.97\n",
      "iteration : 150, loss : 0.4722, accuracy : 83.61\n",
      "iteration : 200, loss : 0.4692, accuracy : 83.79\n",
      "iteration : 250, loss : 0.4714, accuracy : 83.61\n",
      "iteration : 300, loss : 0.4725, accuracy : 83.62\n",
      "Epoch :  11, training loss : 0.4719, training accuracy : 83.64, validation loss : 0.6179, validation accuracy : 78.94\n",
      "\n",
      "Epoch: 12\n",
      "iteration :  50, loss : 0.4376, accuracy : 85.16\n",
      "iteration : 100, loss : 0.4499, accuracy : 84.55\n",
      "iteration : 150, loss : 0.4511, accuracy : 84.38\n",
      "iteration : 200, loss : 0.4526, accuracy : 84.25\n",
      "iteration : 250, loss : 0.4507, accuracy : 84.31\n",
      "iteration : 300, loss : 0.4500, accuracy : 84.29\n",
      "Epoch :  12, training loss : 0.4509, training accuracy : 84.28, validation loss : 0.6143, validation accuracy : 79.03\n",
      "\n",
      "Epoch: 13\n",
      "iteration :  50, loss : 0.4148, accuracy : 85.95\n",
      "iteration : 100, loss : 0.4138, accuracy : 85.70\n",
      "iteration : 150, loss : 0.4121, accuracy : 85.68\n",
      "iteration : 200, loss : 0.4179, accuracy : 85.65\n",
      "iteration : 250, loss : 0.4243, accuracy : 85.32\n",
      "iteration : 300, loss : 0.4224, accuracy : 85.34\n",
      "Epoch :  13, training loss : 0.4230, training accuracy : 85.32, validation loss : 0.5857, validation accuracy : 80.24\n",
      "\n",
      "Epoch: 14\n",
      "iteration :  50, loss : 0.4079, accuracy : 85.94\n",
      "iteration : 100, loss : 0.4006, accuracy : 86.18\n",
      "iteration : 150, loss : 0.4011, accuracy : 85.94\n",
      "iteration : 200, loss : 0.4036, accuracy : 85.85\n",
      "iteration : 250, loss : 0.4032, accuracy : 85.87\n",
      "iteration : 300, loss : 0.4001, accuracy : 85.97\n",
      "Epoch :  14, training loss : 0.4008, training accuracy : 85.97, validation loss : 0.5450, validation accuracy : 81.28\n",
      "Saving..\n"
     ]
    }
   ],
   "source": [
    "# main body\n",
    "config = {\n",
    "    'lr': 0.001,\n",
    "    'momentum': 0.9,\n",
    "    'weight_decay': 0#5e-4\n",
    "}\n",
    "\n",
    "train_loss_ls = []\n",
    "train_acc_ls = []\n",
    "valid_loss_ls = []\n",
    "valid_acc_ls = []\n",
    "\n",
    "net = ResNet18().to('cuda')\n",
    "criterion = nn.CrossEntropyLoss().to('cuda')\n",
    "optimizer = optim.SGD(net.parameters(), lr=config['lr'],\n",
    "                      momentum=config['momentum'], weight_decay=config['weight_decay'])\n",
    "scheduler = torch.optim.lr_scheduler.CosineAnnealingLR(optimizer, T_max=300)\n",
    "\n",
    "for epoch in range(0, 15):\n",
    "    train_loss, train_acc = train(epoch, net, criterion, trainloader, scheduler, optimizer)\n",
    "    valid_loss, valid_acc = test(epoch, net, criterion, validloader)\n",
    "    \n",
    "    print((\"Epoch : %3d, training loss : %0.4f, training accuracy : %2.2f, validation loss \" + \\\n",
    "      \": %0.4f, validation accuracy : %2.2f\") % (epoch, train_loss, train_acc, valid_loss, valid_acc))\n",
    "\n",
    "    train_loss_ls.append(train_loss)\n",
    "    valid_loss_ls.append(valid_loss)\n",
    "    train_acc_ls.append(train_acc)\n",
    "    valid_acc_ls.append(valid_acc) \n",
    "\n",
    "#Finally, get the test result\n",
    "test_loss, test_acc = test(epoch, net, criterion, testloader)\n",
    "\n",
    "file_name = '3-lr0001'\n",
    "if not os.path.isfile(f'./result/{file_name}.pth'):\n",
    "  save_result(file_name, train_loss_ls, valid_loss_ls,  test_loss, train_acc_ls, valid_acc_ls,test_acc)  \n",
    "else:\n",
    "  raise ValueError('File already exist!')"
   ]
  },
  {
   "cell_type": "code",
   "execution_count": 23,
   "metadata": {},
   "outputs": [
    {
     "data": {
      "image/png": "[encoded data removed]",
      "text/plain": [
       "<Figure size 432x288 with 1 Axes>"
      ]
     },
     "metadata": {
      "needs_background": "light"
     },
     "output_type": "display_data"
    }
   ],
   "source": [
    "#temp = torch.load('./result/lr001.pth')\n",
    "\n",
    "plt.plot(range(len(train_loss_ls)), train_loss_ls, 'b')\n",
    "plt.plot(range(len(valid_loss_ls)), valid_loss_ls, 'r')\n",
    "plt.xlabel(\"Number of epochs\")\n",
    "plt.ylabel(\"Loss\")\n",
    "plt.title(\"Logistic Regression: Loss vs Number of epochs\")\n",
    "plt.legend(['train', 'validation'])\n",
    "plt.show()"
   ]
  },
  {
   "cell_type": "code",
   "execution_count": 24,
   "metadata": {},
   "outputs": [
    {
     "data": {
      "image/png": "[encoded data removed]",
      "text/plain": [
       "<Figure size 432x288 with 1 Axes>"
      ]
     },
     "metadata": {
      "needs_background": "light"
     },
     "output_type": "display_data"
    }
   ],
   "source": [
    "plt.plot(range(len(train_acc_ls)), train_acc_ls, 'b')\n",
    "plt.plot(range(len(valid_acc_ls)), valid_acc_ls, 'r')\n",
    "plt.xlabel(\"Number of epochs\")\n",
    "plt.ylabel(\"Accuracy\")\n",
    "plt.title(\"Logistic Regression: Accuracy vs Number of epochs\")\n",
    "plt.legend(['train', 'validation'])\n",
    "plt.show()"
   ]
  },
  {
   "cell_type": "code",
   "execution_count": 25,
   "metadata": {},
   "outputs": [
    {
     "data": {
      "text/plain": [
       "(0.45659916996955874, 85.47)"
      ]
     },
     "execution_count": 25,
     "metadata": {},
     "output_type": "execute_result"
    }
   ],
   "source": [
    "test_loss, test_acc"
   ]
  },
  {
   "cell_type": "code",
   "execution_count": null,
   "metadata": {},
   "outputs": [],
   "source": []
  }
 ],
 "metadata": {
  "kernelspec": {
   "display_name": "Python 3.10.4 ('torch')",
   "language": "python",
   "name": "python3"
  },
  "language_info": {
   "codemirror_mode": {
    "name": "ipython",
    "version": 3
   },
   "file_extension": ".py",
   "mimetype": "text/x-python",
   "name": "python",
   "nbconvert_exporter": "python",
   "pygments_lexer": "ipython3",
   "version": "3.10.4"
  },
  "orig_nbformat": 4,
  "vscode": {
   "interpreter": {
    "hash": "690c9ea092c8a6fc9517542155c4d05fadb9e10c4733225e6f103cd30826cc12"
   }
  }
 },
 "nbformat": 4,
 "nbformat_minor": 2
}

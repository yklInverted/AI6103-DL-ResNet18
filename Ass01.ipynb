{
 "cells": [
  {
   "cell_type": "code",
   "execution_count": 56,
   "metadata": {},
   "outputs": [],
   "source": [
    "# import all libraries\n",
    "import torch\n",
    "import torch.nn as nn\n",
    "import torch.optim as optim\n",
    "import torch.nn.functional as F\n",
    "import torch.backends.cudnn as cudnn\n",
    "import torch.utils.data as data\n",
    "\n",
    "import torchvision\n",
    "import torchvision.transforms as transforms\n",
    "\n",
    "from sklearn.model_selection import train_test_split\n",
    "import matplotlib.pyplot as plt\n",
    "import numpy as np\n",
    "import os\n",
    "import argparse"
   ]
  },
  {
   "cell_type": "code",
   "execution_count": 120,
   "metadata": {},
   "outputs": [
    {
     "name": "stdout",
     "output_type": "stream",
     "text": [
      "Files already downloaded and verified\n"
     ]
    }
   ],
   "source": [
    "torch.manual_seed(0)\n",
    "# these are commonly used data augmentations\n",
    "# random cropping and random horizontal flip\n",
    "# lastly, we normalize each channel into zero mean and unit standard deviation\n",
    "transform_train = transforms.Compose([\n",
    "    transforms.RandomCrop(32, padding=4),\n",
    "    transforms.RandomHorizontalFlip(),\n",
    "    transforms.ToTensor(),\n",
    "    #transforms.Normalize((0.4914, 0.4822, 0.4465), (0.2023, 0.1994, 0.2010)),\n",
    "])\n",
    "\n",
    "transform_test = transforms.Compose([\n",
    "    transforms.ToTensor(),\n",
    "    #transforms.Normalize((0.4914, 0.4822, 0.4465), (0.2023, 0.1994, 0.2010)),\n",
    "])\n",
    "\n",
    "\n",
    "tempset = torchvision.datasets.CIFAR10(\n",
    "    root='./data', train=True, download=True, transform=transform_train)\n",
    "\n",
    "trainset, valset = data.random_split(tempset, [40000, 10000], generator= torch.Generator().manual_seed(0))\n",
    "\n",
    "trainloader = torch.utils.data.DataLoader(\n",
    "    trainset, batch_size=128, shuffle=True, num_workers=2)\n",
    "\n",
    "validloader = torch.utils.data.DataLoader(\n",
    "    valset, batch_size=128, shuffle=True, num_workers=2)\n",
    "testset = torchvision.datasets.CIFAR10(\n",
    "    root='./data', train=False, download=False, transform=transform_test)\n",
    "\n",
    "# we can use a larger batch size during test, because we do not save \n",
    "# intermediate variables for gradient computation, which leaves more memory\n",
    "testloader = torch.utils.data.DataLoader(\n",
    "    testset, batch_size=256, shuffle=False, num_workers=2)\n",
    "\n",
    "classes = ('plane', 'car', 'bird', 'cat', 'deer',\n",
    "           'dog', 'frog', 'horse', 'ship', 'truck')"
   ]
  },
  {
   "cell_type": "code",
   "execution_count": 132,
   "metadata": {},
   "outputs": [],
   "source": [
    "train_indices, val_indices = train_test_split(list(range(len(tempset.targets))), test_size=0.2, random_state = 0, stratify=tempset.targets)\n",
    "trainset = torch.utils.data.Subset(tempset, train_indices)\n",
    "valset = torch.utils.data.Subset(tempset, val_indices)"
   ]
  },
  {
   "cell_type": "code",
   "execution_count": 133,
   "metadata": {},
   "outputs": [
    {
     "data": {
      "text/plain": [
       "<matplotlib.image.AxesImage at 0x1f80232c250>"
      ]
     },
     "execution_count": 133,
     "metadata": {},
     "output_type": "execute_result"
    },
    {
     "data": {
      "image/png": "[encoded data removed]",
      "text/plain": [
       "<Figure size 432x288 with 1 Axes>"
      ]
     },
     "metadata": {
      "needs_background": "light"
     },
     "output_type": "display_data"
    }
   ],
   "source": [
    "plt.imshow(trainset[4][0].permute(1,2,0))"
   ]
  },
  {
   "cell_type": "code",
   "execution_count": 134,
   "metadata": {},
   "outputs": [],
   "source": [
    "count_temp = np.zeros(len(classes))\n",
    "count_train = np.zeros(len(classes))\n",
    "\n",
    "for im, label in trainset:\n",
    "    count_temp[label] += 1\n",
    "    count_train[label] += 1\n",
    "\n",
    "for im, label in valset:\n",
    "    count_temp[label] += 1\n"
   ]
  },
  {
   "cell_type": "code",
   "execution_count": 135,
   "metadata": {},
   "outputs": [
    {
     "data": {
      "text/plain": [
       "<BarContainer object of 10 artists>"
      ]
     },
     "execution_count": 135,
     "metadata": {},
     "output_type": "execute_result"
    },
    {
     "data": {
      "image/png": "[encoded data removed]",
      "text/plain": [
       "<Figure size 432x288 with 1 Axes>"
      ]
     },
     "metadata": {
      "needs_background": "light"
     },
     "output_type": "display_data"
    }
   ],
   "source": [
    "\n",
    "plt.bar(classes, count_temp, color = 'b', label = 'lala')\n",
    "plt.bar(classes, count_train, color = 'y', label = 'haha')"
   ]
  },
  {
   "cell_type": "code",
   "execution_count": 136,
   "metadata": {},
   "outputs": [
    {
     "data": {
      "text/plain": [
       "array([4000., 4000., 4000., 4000., 4000., 4000., 4000., 4000., 4000.,\n",
       "       4000.])"
      ]
     },
     "execution_count": 136,
     "metadata": {},
     "output_type": "execute_result"
    }
   ],
   "source": [
    "\n",
    "\n",
    "np.array([4014., 4002., 3995., 3977., 3982., 4019., 3975., 4010., 4010.,\n",
    "       4016.]);\n",
    "\n",
    "count_train"
   ]
  },
  {
   "cell_type": "code",
   "execution_count": 137,
   "metadata": {},
   "outputs": [],
   "source": [
    "# Training\n",
    "def train(epoch, net, criterion, trainloader, scheduler, optimizer):\n",
    "    device = 'cuda'\n",
    "    print('\\nEpoch: %d' % epoch)\n",
    "    net.train()\n",
    "    train_loss = 0\n",
    "    correct = 0\n",
    "    total = 0\n",
    "\n",
    "    for batch_idx, (inputs, targets) in enumerate(trainloader):\n",
    "        inputs, targets = inputs.to(device), targets.to(device)\n",
    "        optimizer.zero_grad()\n",
    "        outputs = net(inputs)\n",
    "        loss = criterion(outputs, targets)\n",
    "        loss.backward()\n",
    "        optimizer.step()\n",
    "\n",
    "        train_loss += loss.item()\n",
    "        _, predicted = outputs.max(1)\n",
    "        total += targets.size(0)\n",
    "        correct += predicted.eq(targets).sum().item()\n",
    "\n",
    "        if (batch_idx+1) % 50 == 0:\n",
    "          print(\"iteration : %3d, loss : %0.4f, accuracy : %2.2f\" % (batch_idx+1, train_loss/(batch_idx+1), 100.*correct/total))\n",
    "\n",
    "    #scheduler.step()\n",
    "    return train_loss/(batch_idx+1), 100.*correct/total\n",
    "\n",
    "def test(epoch, net, criterion, testloader):\n",
    "    device = 'cuda'\n",
    "    net.eval()\n",
    "    valid_loss = 0\n",
    "    correct = 0\n",
    "    total = 0\n",
    "    with torch.inference_mode():\n",
    "        for batch_idx, (inputs, targets) in enumerate(testloader):\n",
    "            inputs, targets = inputs.to(device), targets.to(device)\n",
    "            outputs = net(inputs)\n",
    "            loss = criterion(outputs, targets)\n",
    "\n",
    "            valid_loss += loss.item()\n",
    "            _, predicted = outputs.max(1)\n",
    "            total += targets.size(0)\n",
    "            correct += predicted.eq(targets).sum().item()\n",
    "\n",
    "    return valid_loss/(batch_idx+1), 100.*correct/total\n",
    "\n"
   ]
  },
  {
   "cell_type": "code",
   "execution_count": 152,
   "metadata": {},
   "outputs": [],
   "source": [
    "def save_checkpoint(net, acc, epoch):\n",
    "    # Save checkpoint.\n",
    "    print('Saving..')\n",
    "    state = {\n",
    "        'net': net.state_dict(),\n",
    "        'acc': acc,\n",
    "        'epoch': epoch,\n",
    "    }\n",
    "    if not os.path.isdir('checkpoint'):\n",
    "        os.mkdir('checkpoint')\n",
    "    torch.save(state, './checkpoint/ckpt.pth')\n",
    "\n",
    "def save_result(name, train_loss, valid_loss, test_loss, train_acc, valid_acc, test_acc):\n",
    "    print('Saving..')\n",
    "    state = {\n",
    "        'tl': train_loss,\n",
    "        'vl': valid_loss,\n",
    "        'fl': test_loss,\n",
    "        'ta': train_acc,  \n",
    "        'va': valid_acc,  \n",
    "        'fa': test_acc,\n",
    "    }\n",
    "\n",
    "    if not os.path.isdir('result'):\n",
    "        os.mkdir('result')\n",
    "    torch.save(state, f'./result/{name}.pth')"
   ]
  },
  {
   "cell_type": "code",
   "execution_count": 139,
   "metadata": {},
   "outputs": [],
   "source": [
    "# defining resnet models\n",
    "\n",
    "class BasicBlock(nn.Module):\n",
    "    expansion = 1\n",
    "\n",
    "    def __init__(self, in_planes, planes, stride=1):\n",
    "        super(BasicBlock, self).__init__()\n",
    "        self.conv1 = nn.Conv2d(\n",
    "            in_planes, planes, kernel_size=3, stride=stride, padding=1, bias=False)\n",
    "        self.bn1 = nn.BatchNorm2d(planes)\n",
    "        self.conv2 = nn.Conv2d(planes, planes, kernel_size=3,\n",
    "                               stride=1, padding=1, bias=False)\n",
    "        self.bn2 = nn.BatchNorm2d(planes)\n",
    "\n",
    "        self.shortcut = nn.Sequential()\n",
    "        if stride != 1 or in_planes != self.expansion*planes:\n",
    "            self.shortcut = nn.Sequential(\n",
    "                nn.Conv2d(in_planes, self.expansion*planes,\n",
    "                          kernel_size=1, stride=stride, bias=False),\n",
    "                nn.BatchNorm2d(self.expansion*planes)\n",
    "            )\n",
    "\n",
    "    def forward(self, x):\n",
    "        out = F.relu(self.bn1(self.conv1(x)))\n",
    "        out = self.bn2(self.conv2(out))\n",
    "        out += self.shortcut(x)\n",
    "        out = F.relu(out)\n",
    "        return out\n",
    "\n",
    "\n",
    "class Bottleneck(nn.Module):\n",
    "    expansion = 4\n",
    "\n",
    "    def __init__(self, in_planes, planes, stride=1):\n",
    "        super(Bottleneck, self).__init__()\n",
    "        self.conv1 = nn.Conv2d(in_planes, planes, kernel_size=1, bias=False)\n",
    "        self.bn1 = nn.BatchNorm2d(planes)\n",
    "        self.conv2 = nn.Conv2d(planes, planes, kernel_size=3,\n",
    "                               stride=stride, padding=1, bias=False)\n",
    "        self.bn2 = nn.BatchNorm2d(planes)\n",
    "        self.conv3 = nn.Conv2d(planes, self.expansion *\n",
    "                               planes, kernel_size=1, bias=False)\n",
    "        self.bn3 = nn.BatchNorm2d(self.expansion*planes)\n",
    "\n",
    "        self.shortcut = nn.Sequential()\n",
    "        if stride != 1 or in_planes != self.expansion*planes:\n",
    "            self.shortcut = nn.Sequential(\n",
    "                nn.Conv2d(in_planes, self.expansion*planes,\n",
    "                          kernel_size=1, stride=stride, bias=False),\n",
    "                nn.BatchNorm2d(self.expansion*planes)\n",
    "            )\n",
    "\n",
    "    def forward(self, x):\n",
    "        out = F.relu(self.bn1(self.conv1(x)))\n",
    "        out = F.relu(self.bn2(self.conv2(out)))\n",
    "        out = self.bn3(self.conv3(out))\n",
    "        out += self.shortcut(x)\n",
    "        out = F.relu(out)\n",
    "        return out\n",
    "\n",
    "\n",
    "class ResNet(nn.Module):\n",
    "    def __init__(self, block, num_blocks, num_classes=10):\n",
    "        super(ResNet, self).__init__()\n",
    "        self.in_planes = 64\n",
    "\n",
    "        # This is the \"stem\"\n",
    "        # For CIFAR (32x32 images), it does not perform downsampling\n",
    "        # It should downsample for ImageNet\n",
    "        self.conv1 = nn.Conv2d(3, 64, kernel_size=3,\n",
    "                               stride=1, padding=1, bias=False)\n",
    "        self.bn1 = nn.BatchNorm2d(64)\n",
    "        # four stages with three downsampling\n",
    "        self.layer1 = self._make_layer(block, 64, num_blocks[0], stride=1)\n",
    "        self.layer2 = self._make_layer(block, 128, num_blocks[1], stride=2)\n",
    "        self.layer3 = self._make_layer(block, 256, num_blocks[2], stride=2)\n",
    "        self.layer4 = self._make_layer(block, 512, num_blocks[3], stride=2)\n",
    "        self.linear = nn.Linear(512*block.expansion, num_classes)\n",
    "\n",
    "    def _make_layer(self, block, planes, num_blocks, stride):\n",
    "        strides = [stride] + [1]*(num_blocks-1)\n",
    "        layers = []\n",
    "        for stride in strides:\n",
    "            layers.append(block(self.in_planes, planes, stride))\n",
    "            self.in_planes = planes * block.expansion\n",
    "        return nn.Sequential(*layers)\n",
    "\n",
    "    def forward(self, x):\n",
    "        out = F.relu(self.bn1(self.conv1(x)))\n",
    "        out = self.layer1(out)\n",
    "        out = self.layer2(out)\n",
    "        out = self.layer3(out)\n",
    "        out = self.layer4(out)\n",
    "        out = F.avg_pool2d(out, 4)\n",
    "        out = out.view(out.size(0), -1)\n",
    "        out = self.linear(out)\n",
    "        return out\n",
    "\n",
    "\n",
    "def ResNet18():\n",
    "    return ResNet(BasicBlock, [2, 2, 2, 2])\n",
    "\n",
    "\n",
    "def ResNet34():\n",
    "    return ResNet(BasicBlock, [3, 4, 6, 3])\n",
    "\n",
    "\n",
    "def ResNet50():\n",
    "    return ResNet(Bottleneck, [3, 4, 6, 3])\n",
    "\n",
    "\n",
    "def ResNet101():\n",
    "    return ResNet(Bottleneck, [3, 4, 23, 3])\n",
    "\n",
    "\n",
    "def ResNet152():\n",
    "    return ResNet(Bottleneck, [3, 8, 36, 3])\n",
    "\n",
    "\n",
    "def test_resnet18():\n",
    "    net = ResNet18()\n",
    "    y = net(torch.randn(1, 3, 32, 32))\n",
    "    print(y.size())"
   ]
  },
  {
   "cell_type": "code",
   "execution_count": 140,
   "metadata": {},
   "outputs": [
    {
     "name": "stdout",
     "output_type": "stream",
     "text": [
      "\n",
      "Epoch: 0\n",
      "iteration :  50, loss : 1.9619, accuracy : 27.69\n",
      "iteration : 100, loss : 1.8138, accuracy : 33.15\n",
      "iteration : 150, loss : 1.6996, accuracy : 37.32\n",
      "iteration : 200, loss : 1.6211, accuracy : 40.21\n",
      "iteration : 250, loss : 1.5632, accuracy : 42.44\n",
      "iteration : 300, loss : 1.5030, accuracy : 44.81\n",
      "Epoch :   0, training loss : 1.4876, training accuracy : 45.42, validation loss : 1.8369, validation accuracy : 43.08\n",
      "\n",
      "Epoch: 1\n",
      "iteration :  50, loss : 1.1336, accuracy : 59.14\n",
      "iteration : 100, loss : 1.1130, accuracy : 60.18\n",
      "iteration : 150, loss : 1.0885, accuracy : 61.00\n",
      "iteration : 200, loss : 1.0739, accuracy : 61.62\n",
      "iteration : 250, loss : 1.0570, accuracy : 62.32\n",
      "iteration : 300, loss : 1.0394, accuracy : 62.96\n",
      "Epoch :   1, training loss : 1.0357, training accuracy : 63.11, validation loss : 1.4888, validation accuracy : 50.96\n",
      "\n",
      "Epoch: 2\n",
      "iteration :  50, loss : 0.8607, accuracy : 70.02\n",
      "iteration : 100, loss : 0.8731, accuracy : 69.34\n",
      "iteration : 150, loss : 0.8603, accuracy : 69.68\n",
      "iteration : 200, loss : 0.8442, accuracy : 70.20\n",
      "iteration : 250, loss : 0.8373, accuracy : 70.40\n",
      "iteration : 300, loss : 0.8244, accuracy : 70.98\n",
      "Epoch :   2, training loss : 0.8205, training accuracy : 71.07, validation loss : 0.8878, validation accuracy : 69.34\n",
      "\n",
      "Epoch: 3\n",
      "iteration :  50, loss : 0.6864, accuracy : 76.30\n",
      "iteration : 100, loss : 0.6892, accuracy : 75.73\n",
      "iteration : 150, loss : 0.6828, accuracy : 76.05\n",
      "iteration : 200, loss : 0.6823, accuracy : 76.01\n",
      "iteration : 250, loss : 0.6749, accuracy : 76.39\n",
      "iteration : 300, loss : 0.6701, accuracy : 76.60\n",
      "Epoch :   3, training loss : 0.6692, training accuracy : 76.59, validation loss : 0.8108, validation accuracy : 72.78\n",
      "\n",
      "Epoch: 4\n",
      "iteration :  50, loss : 0.6032, accuracy : 79.12\n",
      "iteration : 100, loss : 0.6226, accuracy : 78.27\n",
      "iteration : 150, loss : 0.6198, accuracy : 78.39\n",
      "iteration : 200, loss : 0.6081, accuracy : 78.83\n",
      "iteration : 250, loss : 0.6067, accuracy : 78.92\n",
      "iteration : 300, loss : 0.6072, accuracy : 78.86\n",
      "Epoch :   4, training loss : 0.6056, training accuracy : 78.89, validation loss : 0.7378, validation accuracy : 74.65\n",
      "\n",
      "Epoch: 5\n",
      "iteration :  50, loss : 0.5325, accuracy : 81.45\n",
      "iteration : 100, loss : 0.5347, accuracy : 81.26\n",
      "iteration : 150, loss : 0.5302, accuracy : 81.45\n",
      "iteration : 200, loss : 0.5204, accuracy : 81.87\n",
      "iteration : 250, loss : 0.5230, accuracy : 81.81\n",
      "iteration : 300, loss : 0.5241, accuracy : 81.79\n",
      "Epoch :   5, training loss : 0.5221, training accuracy : 81.85, validation loss : 0.6164, validation accuracy : 78.88\n",
      "\n",
      "Epoch: 6\n",
      "iteration :  50, loss : 0.4780, accuracy : 83.00\n",
      "iteration : 100, loss : 0.4816, accuracy : 83.11\n",
      "iteration : 150, loss : 0.4816, accuracy : 83.24\n",
      "iteration : 200, loss : 0.4822, accuracy : 83.30\n",
      "iteration : 250, loss : 0.4853, accuracy : 83.17\n",
      "iteration : 300, loss : 0.4824, accuracy : 83.24\n",
      "Epoch :   6, training loss : 0.4823, training accuracy : 83.25, validation loss : 0.6710, validation accuracy : 77.88\n",
      "\n",
      "Epoch: 7\n",
      "iteration :  50, loss : 0.4191, accuracy : 85.42\n",
      "iteration : 100, loss : 0.4286, accuracy : 84.75\n",
      "iteration : 150, loss : 0.4320, accuracy : 84.81\n",
      "iteration : 200, loss : 0.4303, accuracy : 85.05\n",
      "iteration : 250, loss : 0.4299, accuracy : 85.11\n",
      "iteration : 300, loss : 0.4340, accuracy : 84.90\n",
      "Epoch :   7, training loss : 0.4333, training accuracy : 84.88, validation loss : 0.6309, validation accuracy : 79.43\n",
      "\n",
      "Epoch: 8\n",
      "iteration :  50, loss : 0.3983, accuracy : 85.62\n",
      "iteration : 100, loss : 0.4059, accuracy : 85.56\n",
      "iteration : 150, loss : 0.3945, accuracy : 86.19\n",
      "iteration : 200, loss : 0.3913, accuracy : 86.26\n",
      "iteration : 250, loss : 0.3958, accuracy : 86.09\n",
      "iteration : 300, loss : 0.3962, accuracy : 86.05\n",
      "Epoch :   8, training loss : 0.3977, training accuracy : 85.99, validation loss : 0.5716, validation accuracy : 80.96\n",
      "\n",
      "Epoch: 9\n",
      "iteration :  50, loss : 0.3764, accuracy : 86.98\n",
      "iteration : 100, loss : 0.3784, accuracy : 86.77\n",
      "iteration : 150, loss : 0.3716, accuracy : 86.97\n",
      "iteration : 200, loss : 0.3722, accuracy : 86.97\n",
      "iteration : 250, loss : 0.3682, accuracy : 87.10\n",
      "iteration : 300, loss : 0.3721, accuracy : 87.01\n",
      "Epoch :   9, training loss : 0.3714, training accuracy : 87.05, validation loss : 0.4636, validation accuracy : 84.07\n",
      "\n",
      "Epoch: 10\n",
      "iteration :  50, loss : 0.3295, accuracy : 88.41\n",
      "iteration : 100, loss : 0.3307, accuracy : 88.47\n",
      "iteration : 150, loss : 0.3336, accuracy : 88.23\n",
      "iteration : 200, loss : 0.3355, accuracy : 88.12\n",
      "iteration : 250, loss : 0.3390, accuracy : 88.03\n",
      "iteration : 300, loss : 0.3394, accuracy : 88.04\n",
      "Epoch :  10, training loss : 0.3382, training accuracy : 88.08, validation loss : 0.5659, validation accuracy : 81.26\n",
      "\n",
      "Epoch: 11\n",
      "iteration :  50, loss : 0.2985, accuracy : 89.72\n",
      "iteration : 100, loss : 0.3115, accuracy : 89.28\n",
      "iteration : 150, loss : 0.3098, accuracy : 89.33\n",
      "iteration : 200, loss : 0.3064, accuracy : 89.41\n",
      "iteration : 250, loss : 0.3124, accuracy : 89.10\n",
      "iteration : 300, loss : 0.3120, accuracy : 89.07\n",
      "Epoch :  11, training loss : 0.3128, training accuracy : 89.04, validation loss : 0.4317, validation accuracy : 85.52\n",
      "\n",
      "Epoch: 12\n",
      "iteration :  50, loss : 0.2864, accuracy : 89.98\n",
      "iteration : 100, loss : 0.2874, accuracy : 89.89\n",
      "iteration : 150, loss : 0.2936, accuracy : 89.67\n",
      "iteration : 200, loss : 0.2979, accuracy : 89.58\n",
      "iteration : 250, loss : 0.3000, accuracy : 89.55\n",
      "iteration : 300, loss : 0.2999, accuracy : 89.55\n",
      "Epoch :  12, training loss : 0.3013, training accuracy : 89.51, validation loss : 0.4726, validation accuracy : 84.36\n",
      "\n",
      "Epoch: 13\n",
      "iteration :  50, loss : 0.2554, accuracy : 91.36\n",
      "iteration : 100, loss : 0.2631, accuracy : 90.96\n",
      "iteration : 150, loss : 0.2668, accuracy : 90.80\n",
      "iteration : 200, loss : 0.2695, accuracy : 90.65\n",
      "iteration : 250, loss : 0.2739, accuracy : 90.42\n",
      "iteration : 300, loss : 0.2734, accuracy : 90.44\n",
      "Epoch :  13, training loss : 0.2729, training accuracy : 90.44, validation loss : 0.4600, validation accuracy : 84.92\n",
      "\n",
      "Epoch: 14\n",
      "iteration :  50, loss : 0.2458, accuracy : 91.48\n",
      "iteration : 100, loss : 0.2651, accuracy : 90.76\n",
      "iteration : 150, loss : 0.2573, accuracy : 90.93\n",
      "iteration : 200, loss : 0.2617, accuracy : 90.84\n",
      "iteration : 250, loss : 0.2623, accuracy : 90.75\n",
      "iteration : 300, loss : 0.2608, accuracy : 90.82\n",
      "Epoch :  14, training loss : 0.2599, training accuracy : 90.85, validation loss : 0.4478, validation accuracy : 85.47\n"
     ]
    }
   ],
   "source": [
    "# main body\n",
    "config = {\n",
    "    'lr': 0.1,\n",
    "    'momentum': 0.9,\n",
    "    'weight_decay': 0#5e-4\n",
    "}\n",
    "\n",
    "train_loss_ls = []\n",
    "train_acc_ls = []\n",
    "valid_loss_ls = []\n",
    "valid_acc_ls = []\n",
    "\n",
    "net = ResNet18().to('cuda')\n",
    "criterion = nn.CrossEntropyLoss().to('cuda')\n",
    "optimizer = optim.SGD(net.parameters(), lr=config['lr'],\n",
    "                      momentum=config['momentum'], weight_decay=config['weight_decay'])\n",
    "scheduler = torch.optim.lr_scheduler.CosineAnnealingLR(optimizer, T_max=200)\n",
    "\n",
    "for epoch in range(0, 15):\n",
    "    train_loss, train_acc = train(epoch, net, criterion, trainloader, scheduler, optimizer)\n",
    "    valid_loss, valid_acc = test(epoch, net, criterion, validloader)\n",
    "    \n",
    "    print((\"Epoch : %3d, training loss : %0.4f, training accuracy : %2.2f, validation loss \" + \\\n",
    "      \": %0.4f, validation accuracy : %2.2f\") % (epoch, train_loss, train_acc, valid_loss, valid_acc))\n",
    "\n",
    "    train_loss_ls.append(train_loss)\n",
    "    valid_loss_ls.append(valid_loss)\n",
    "    train_acc_ls.append(train_acc)\n",
    "    valid_acc_ls.append(valid_acc) \n",
    "\n",
    "#Finally, get the test result\n",
    "test_loss, test_acc = test(epoch, net, criterion, testloader)\n",
    "save_result('lr01', train_loss_ls, valid_loss_ls,  test_loss, train_acc_ls, valid_acc_ls,test_acc)"
   ]
  },
  {
   "cell_type": "code",
   "execution_count": 141,
   "metadata": {},
   "outputs": [
    {
     "data": {
      "image/png": "[encoded data removed]",
      "text/plain": [
       "<Figure size 432x288 with 1 Axes>"
      ]
     },
     "metadata": {
      "needs_background": "light"
     },
     "output_type": "display_data"
    }
   ],
   "source": [
    "#temp = torch.load('./result/lr001.pth')\n",
    "\n",
    "plt.plot(range(len(train_loss_ls)), train_loss_ls, 'b')\n",
    "plt.plot(range(len(valid_loss_ls)), valid_loss_ls, 'r')\n",
    "plt.xlabel(\"Number of epochs\")\n",
    "plt.ylabel(\"Loss\")\n",
    "plt.title(\"Logistic Regression: Loss vs Number of epochs\")\n",
    "plt.legend(['train', 'validation'])\n",
    "plt.show()"
   ]
  },
  {
   "cell_type": "code",
   "execution_count": 163,
   "metadata": {},
   "outputs": [
    {
     "data": {
      "image/png": "[encoded data removed]",
      "text/plain": [
       "<Figure size 432x288 with 1 Axes>"
      ]
     },
     "metadata": {
      "needs_background": "light"
     },
     "output_type": "display_data"
    }
   ],
   "source": [
    "plt.plot(range(len(train_acc_ls)), train_acc_ls, 'b')\n",
    "plt.plot(range(len(valid_acc_ls)), valid_acc_ls, 'r')\n",
    "plt.xlabel(\"Number of epochs\")\n",
    "plt.ylabel(\"Accuracy\")\n",
    "plt.title(\"Logistic Regression: Accuracy vs Number of epochs\")\n",
    "plt.legend(['train', 'validation'])\n",
    "plt.show()"
   ]
  },
  {
   "cell_type": "code",
   "execution_count": 164,
   "metadata": {},
   "outputs": [
    {
     "data": {
      "text/plain": [
       "(0.4431472051888704, 85.9)"
      ]
     },
     "execution_count": 164,
     "metadata": {},
     "output_type": "execute_result"
    }
   ],
   "source": [
    "test_loss, test_acc"
   ]
  },
  {
   "cell_type": "code",
   "execution_count": null,
   "metadata": {},
   "outputs": [],
   "source": []
  }
 ],
 "metadata": {
  "kernelspec": {
   "display_name": "Python 3.10.4 ('torch')",
   "language": "python",
   "name": "python3"
  },
  "language_info": {
   "codemirror_mode": {
    "name": "ipython",
    "version": 3
   },
   "file_extension": ".py",
   "mimetype": "text/x-python",
   "name": "python",
   "nbconvert_exporter": "python",
   "pygments_lexer": "ipython3",
   "version": "3.10.4"
  },
  "orig_nbformat": 4,
  "vscode": {
   "interpreter": {
    "hash": "690c9ea092c8a6fc9517542155c4d05fadb9e10c4733225e6f103cd30826cc12"
   }
  }
 },
 "nbformat": 4,
 "nbformat_minor": 2
}
